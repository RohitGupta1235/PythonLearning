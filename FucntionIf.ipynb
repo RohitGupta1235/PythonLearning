{
 "cells": [
  {
   "cell_type": "code",
   "execution_count": 9,
   "id": "55b8c7f1-3206-4be5-b4e3-186b855fd7a6",
   "metadata": {},
   "outputs": [
    {
     "name": "stdout",
     "output_type": "stream",
     "text": [
      "you are not permit\n"
     ]
    }
   ],
   "source": [
    "x=3\n",
    "if x>5:\n",
    "    print(\"you are permit\")\n",
    "else :\n",
    "   print(\"you are not permit\")"
   ]
  },
  {
   "cell_type": "code",
   "execution_count": 11,
   "id": "1e39181d-a928-4807-a8d1-4ee8a652b7e1",
   "metadata": {},
   "outputs": [
    {
     "name": "stdout",
     "output_type": "stream",
     "text": [
      "you are permit\n"
     ]
    }
   ],
   "source": [
    "x=10\n",
    "if x>5:\n",
    "    print(\"you are permit\")\n",
    "else :\n",
    "   print(\"you are not permit\")"
   ]
  },
  {
   "cell_type": "code",
   "execution_count": 13,
   "id": "e0e9101f-89a2-45cc-89a4-372499dd17cc",
   "metadata": {},
   "outputs": [],
   "source": [
    "def add(a,b):\n",
    "    return a+b"
   ]
  },
  {
   "cell_type": "code",
   "execution_count": 17,
   "id": "247d2886-2982-4413-9971-5d4bd2dfc4da",
   "metadata": {},
   "outputs": [
    {
     "data": {
      "text/plain": [
       "5"
      ]
     },
     "execution_count": 17,
     "metadata": {},
     "output_type": "execute_result"
    }
   ],
   "source": [
    "add(2,3)"
   ]
  },
  {
   "cell_type": "code",
   "execution_count": 19,
   "id": "6c32e9e1-ec51-4030-9b85-da7e517396af",
   "metadata": {},
   "outputs": [],
   "source": [
    "def mult(a,b):\n",
    "    return a*b"
   ]
  },
  {
   "cell_type": "code",
   "execution_count": 21,
   "id": "8ddf975e-515d-4cc5-ac8b-e8e476765d76",
   "metadata": {},
   "outputs": [
    {
     "data": {
      "text/plain": [
       "15"
      ]
     },
     "execution_count": 21,
     "metadata": {},
     "output_type": "execute_result"
    }
   ],
   "source": [
    "mult(3,5)"
   ]
  },
  {
   "cell_type": "code",
   "execution_count": 23,
   "id": "d8f3b547-5c58-4fbe-9af3-4f596b702b21",
   "metadata": {},
   "outputs": [
    {
     "name": "stdout",
     "output_type": "stream",
     "text": [
      "Hello from a function\n"
     ]
    }
   ],
   "source": [
    "def my_function():\n",
    "  print(\"Hello from a function\")\n",
    "\n",
    "my_function()"
   ]
  },
  {
   "cell_type": "code",
   "execution_count": null,
   "id": "7134adab-fc7a-4bd7-b193-cd2d14855960",
   "metadata": {},
   "outputs": [],
   "source": []
  }
 ],
 "metadata": {
  "kernelspec": {
   "display_name": "Python 3 (ipykernel)",
   "language": "python",
   "name": "python3"
  },
  "language_info": {
   "codemirror_mode": {
    "name": "ipython",
    "version": 3
   },
   "file_extension": ".py",
   "mimetype": "text/x-python",
   "name": "python",
   "nbconvert_exporter": "python",
   "pygments_lexer": "ipython3",
   "version": "3.12.4"
  }
 },
 "nbformat": 4,
 "nbformat_minor": 5
}
