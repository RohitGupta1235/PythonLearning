{
 "cells": [
  {
   "cell_type": "code",
   "execution_count": 25,
   "id": "6da10734-5863-4712-964a-eba3474d1dab",
   "metadata": {},
   "outputs": [],
   "source": [
    "class Phone:\n",
    "    def cell(self):\n",
    "        print(\"it will call\")\n",
    "    def ring(self):\n",
    "        print(\"it will ring\")\n",
    "\n",
    "#whichever the method we will create inside the class then it will be \n",
    "#first parameter will be self always"
   ]
  },
  {
   "cell_type": "code",
   "execution_count": 27,
   "id": "520478c7-73d9-4bbb-af89-03217ba7c984",
   "metadata": {},
   "outputs": [],
   "source": [
    "p1=Phone()"
   ]
  },
  {
   "cell_type": "code",
   "execution_count": 29,
   "id": "8f1f8469-9f39-444e-8139-8166727e6ef9",
   "metadata": {},
   "outputs": [
    {
     "name": "stdout",
     "output_type": "stream",
     "text": [
      "it will ring\n"
     ]
    }
   ],
   "source": [
    "p1.ring()"
   ]
  },
  {
   "cell_type": "code",
   "execution_count": 31,
   "id": "216ffd69-814a-4978-8b4a-ac0f22de22fd",
   "metadata": {},
   "outputs": [],
   "source": [
    "p2=Phone()"
   ]
  },
  {
   "cell_type": "code",
   "execution_count": 33,
   "id": "b56c23fd-7f1f-4879-b78a-a19213c18827",
   "metadata": {},
   "outputs": [
    {
     "name": "stdout",
     "output_type": "stream",
     "text": [
      "it will call\n"
     ]
    }
   ],
   "source": [
    "p2.cell()#instanting the p2 object"
   ]
  },
  {
   "cell_type": "code",
   "execution_count": 57,
   "id": "adbb61dd-4458-45db-ab7a-997a5c1bcae7",
   "metadata": {},
   "outputs": [],
   "source": [
    "#Adding the parameter to the class\n",
    "class Change:\n",
    "    def set_color(self,color):\n",
    "        self.color=color\n",
    "    def set_red(self,red):\n",
    "        self.red=red\n",
    "    def get_color(self):\n",
    "        return self.color\n",
    "    def get_red(self):\n",
    "        return self.red\n",
    "\n"
   ]
  },
  {
   "cell_type": "raw",
   "id": "b1ab34a4-f1b8-48c3-aea2-16e6ff88bcf5",
   "metadata": {},
   "source": [
    "x=Change()"
   ]
  },
  {
   "cell_type": "code",
   "execution_count": 59,
   "id": "90ff8d78-e70a-4d26-8041-c1caa6bfcc1a",
   "metadata": {},
   "outputs": [
    {
     "ename": "NameError",
     "evalue": "name 'x' is not defined",
     "output_type": "error",
     "traceback": [
      "\u001b[1;31m---------------------------------------------------------------------------\u001b[0m",
      "\u001b[1;31mNameError\u001b[0m                                 Traceback (most recent call last)",
      "Cell \u001b[1;32mIn[59], line 1\u001b[0m\n\u001b[1;32m----> 1\u001b[0m x\u001b[38;5;241m.\u001b[39mset_color(\u001b[38;5;124m\"\u001b[39m\u001b[38;5;124myellow\u001b[39m\u001b[38;5;124m\"\u001b[39m)\n",
      "\u001b[1;31mNameError\u001b[0m: name 'x' is not defined"
     ]
    }
   ],
   "source": [
    "x.set_color(\"yellow\")"
   ]
  },
  {
   "cell_type": "code",
   "execution_count": null,
   "id": "770d96ce-4236-417c-9269-b8899324172e",
   "metadata": {},
   "outputs": [],
   "source": []
  }
 ],
 "metadata": {
  "kernelspec": {
   "display_name": "Python 3 (ipykernel)",
   "language": "python",
   "name": "python3"
  },
  "language_info": {
   "codemirror_mode": {
    "name": "ipython",
    "version": 3
   },
   "file_extension": ".py",
   "mimetype": "text/x-python",
   "name": "python",
   "nbconvert_exporter": "python",
   "pygments_lexer": "ipython3",
   "version": "3.12.4"
  }
 },
 "nbformat": 4,
 "nbformat_minor": 5
}
