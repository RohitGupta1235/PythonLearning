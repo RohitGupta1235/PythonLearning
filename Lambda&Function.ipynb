{
 "cells": [
  {
   "cell_type": "code",
   "execution_count": 5,
   "id": "4551552b-f141-4ba7-9d91-6de5e59b3df5",
   "metadata": {},
   "outputs": [],
   "source": [
    "def num(x):\n",
    "    if x%2==0:\n",
    "        print(\"even\")\n",
    "    else:\n",
    "        print(\"odd\")\n"
   ]
  },
  {
   "cell_type": "code",
   "execution_count": 7,
   "id": "7f11b160-19dd-4708-b8c6-9bf0a4961e20",
   "metadata": {},
   "outputs": [
    {
     "name": "stdout",
     "output_type": "stream",
     "text": [
      "odd\n"
     ]
    }
   ],
   "source": [
    "num(23)"
   ]
  },
  {
   "cell_type": "code",
   "execution_count": 9,
   "id": "ca24f33c-2bf5-4a66-a3e8-a954ca2fd211",
   "metadata": {},
   "outputs": [
    {
     "name": "stdout",
     "output_type": "stream",
     "text": [
      "even\n"
     ]
    }
   ],
   "source": [
    "num(24)"
   ]
  },
  {
   "cell_type": "code",
   "execution_count": 11,
   "id": "f9daeb63-3d7c-4d90-800e-611a3cee4fd2",
   "metadata": {
    "scrolled": true
   },
   "outputs": [
    {
     "name": "stdout",
     "output_type": "stream",
     "text": [
      "even\n"
     ]
    }
   ],
   "source": [
    "num(34)"
   ]
  },
  {
   "cell_type": "code",
   "execution_count": 13,
   "id": "33fe2863-a832-4d96-ae11-677e4bd7be41",
   "metadata": {},
   "outputs": [],
   "source": [
    "x=lambda y:y*y*y"
   ]
  },
  {
   "cell_type": "code",
   "execution_count": 15,
   "id": "1bd40630-25e6-4bec-a416-4436eda21656",
   "metadata": {},
   "outputs": [
    {
     "data": {
      "text/plain": [
       "8"
      ]
     },
     "execution_count": 15,
     "metadata": {},
     "output_type": "execute_result"
    }
   ],
   "source": [
    "x(2)"
   ]
  },
  {
   "cell_type": "code",
   "execution_count": 17,
   "id": "61745576-a2cd-4eb2-8bad-ea9f6c25edc2",
   "metadata": {},
   "outputs": [],
   "source": [
    "#lambda function "
   ]
  },
  {
   "cell_type": "code",
   "execution_count": 19,
   "id": "f8097ebc-ef3e-4132-a82b-6c63ab74681c",
   "metadata": {},
   "outputs": [],
   "source": [
    "l1=[23,24,21,3,56,5]"
   ]
  },
  {
   "cell_type": "code",
   "execution_count": 29,
   "id": "253acdb5-2be0-44e0-aead-486811cbbb10",
   "metadata": {},
   "outputs": [
    {
     "data": {
      "text/plain": [
       "[23, 24, 21, 3, 56, 5]"
      ]
     },
     "execution_count": 29,
     "metadata": {},
     "output_type": "execute_result"
    }
   ],
   "source": [
    "l1\n"
   ]
  },
  {
   "cell_type": "code",
   "execution_count": 35,
   "id": "bc976069-7e93-45ef-9371-5a784aac215d",
   "metadata": {},
   "outputs": [],
   "source": [
    "#lambda function with filter\n",
    "\n",
    "# it will  take the first as two parameter first is lambad and then list\n"
   ]
  },
  {
   "cell_type": "code",
   "execution_count": 39,
   "id": "c9a4447b-5f81-44ab-8da6-e101cd6cdf4f",
   "metadata": {},
   "outputs": [],
   "source": [
    "l2=list(filter(lambda x:(x%2!=0),l1))"
   ]
  },
  {
   "cell_type": "code",
   "execution_count": 41,
   "id": "facd59b5-3b52-457c-b978-d9730b09fb53",
   "metadata": {},
   "outputs": [
    {
     "data": {
      "text/plain": [
       "[23, 21, 3, 5]"
      ]
     },
     "execution_count": 41,
     "metadata": {},
     "output_type": "execute_result"
    }
   ],
   "source": [
    "l2"
   ]
  },
  {
   "cell_type": "code",
   "execution_count": 43,
   "id": "fe3316c6-2117-4e70-9688-ab659ca17f72",
   "metadata": {},
   "outputs": [],
   "source": [
    "#map with list when we want to done the changes for all the element"
   ]
  },
  {
   "cell_type": "code",
   "execution_count": 47,
   "id": "da103ca9-ef2f-4469-ba33-45e4faa30af7",
   "metadata": {},
   "outputs": [],
   "source": [
    "l2=list(map(lambda x:(x*2),l1))"
   ]
  },
  {
   "cell_type": "code",
   "execution_count": 49,
   "id": "c535a622-a73f-44e8-b127-c7f1b8b3be15",
   "metadata": {},
   "outputs": [
    {
     "data": {
      "text/plain": [
       "[46, 48, 42, 6, 112, 10]"
      ]
     },
     "execution_count": 49,
     "metadata": {},
     "output_type": "execute_result"
    }
   ],
   "source": [
    "l2"
   ]
  },
  {
   "cell_type": "code",
   "execution_count": null,
   "id": "d60df98a-5951-4f62-870c-eba0e351e370",
   "metadata": {},
   "outputs": [],
   "source": []
  }
 ],
 "metadata": {
  "kernelspec": {
   "display_name": "Python 3 (ipykernel)",
   "language": "python",
   "name": "python3"
  },
  "language_info": {
   "codemirror_mode": {
    "name": "ipython",
    "version": 3
   },
   "file_extension": ".py",
   "mimetype": "text/x-python",
   "name": "python",
   "nbconvert_exporter": "python",
   "pygments_lexer": "ipython3",
   "version": "3.12.4"
  }
 },
 "nbformat": 4,
 "nbformat_minor": 5
}
