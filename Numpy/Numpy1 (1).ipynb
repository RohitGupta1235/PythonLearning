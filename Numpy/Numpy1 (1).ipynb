{
 "cells": [
  {
   "cell_type": "code",
   "execution_count": 1,
   "id": "fffd822e-dda0-40c0-8f97-3c6bc94c71af",
   "metadata": {},
   "outputs": [
    {
     "name": "stdout",
     "output_type": "stream",
     "text": [
      "Numpy Campus X\n"
     ]
    }
   ],
   "source": [
    "#Numpy has one data structure that is n-dimesnionl array\n",
    "print(\"Numpy Campus X\")"
   ]
  },
  {
   "cell_type": "code",
   "execution_count": 39,
   "id": "7e1e8f3a-4dc4-4ceb-9eb6-4e2a271774f3",
   "metadata": {},
   "outputs": [],
   "source": [
    "#this is the sytax to include numpy in ur project"
   ]
  },
  {
   "cell_type": "code",
   "execution_count": 41,
   "id": "5e96f575-5181-4ed0-b842-ebb78657e9d2",
   "metadata": {},
   "outputs": [],
   "source": [
    "import numpy as np"
   ]
  },
  {
   "cell_type": "code",
   "execution_count": 43,
   "id": "e4f368d6-4826-4bbd-bc90-7931fb765395",
   "metadata": {},
   "outputs": [],
   "source": [
    "x=np.array({})"
   ]
  },
  {
   "cell_type": "code",
   "execution_count": 45,
   "id": "5ac1bfbf-cf5e-48f5-b91b-d4abcac1a11d",
   "metadata": {},
   "outputs": [],
   "source": [
    "arr1=np.array([1,2,3,4])"
   ]
  },
  {
   "cell_type": "code",
   "execution_count": 57,
   "id": "2376a424-9e16-482f-b9b9-9c8b1cd9f8ac",
   "metadata": {},
   "outputs": [
    {
     "data": {
      "text/plain": [
       "array([[1, 2, 3],\n",
       "       [2, 5, 6]])"
      ]
     },
     "execution_count": 57,
     "metadata": {},
     "output_type": "execute_result"
    }
   ],
   "source": [
    "arr1"
   ]
  },
  {
   "cell_type": "code",
   "execution_count": 59,
   "id": "549114ca-bd1a-474a-9186-a7b0805473ab",
   "metadata": {},
   "outputs": [
    {
     "data": {
      "text/plain": [
       "numpy.ndarray"
      ]
     },
     "execution_count": 59,
     "metadata": {},
     "output_type": "execute_result"
    }
   ],
   "source": [
    "type(arr1)"
   ]
  },
  {
   "cell_type": "code",
   "execution_count": 83,
   "id": "04731308-8a8a-43cc-9baa-11f74af5a1e5",
   "metadata": {},
   "outputs": [
    {
     "data": {
      "text/plain": [
       "array([[1, 2, 3],\n",
       "       [2, 5, 6]])"
      ]
     },
     "execution_count": 83,
     "metadata": {},
     "output_type": "execute_result"
    }
   ],
   "source": [
    "arr2=np.array([[1,2,3],[2,5,6]])\n",
    "arr2"
   ]
  },
  {
   "cell_type": "raw",
   "id": "7c8068ee-5611-40ad-b339-383c43bf6b04",
   "metadata": {},
   "source": []
  },
  {
   "cell_type": "code",
   "execution_count": 85,
   "id": "80b7f9bb-df84-4a37-be16-cb16d63a5da5",
   "metadata": {},
   "outputs": [
    {
     "data": {
      "text/plain": [
       "array([[0., 0., 0.],\n",
       "       [0., 0., 0.]])"
      ]
     },
     "execution_count": 85,
     "metadata": {},
     "output_type": "execute_result"
    }
   ],
   "source": [
    "arr3=np.zeros((2,3))\n",
    "arr3\n",
    "\n"
   ]
  },
  {
   "cell_type": "raw",
   "id": "ef70aa8e-1c5b-4c5a-b3d0-9f5d48571175",
   "metadata": {},
   "source": [
    "arr4=np.ones((4,4))\n",
    "arr4"
   ]
  },
  {
   "cell_type": "code",
   "execution_count": 105,
   "id": "aefab250-da3c-4444-a034-6f95036ce124",
   "metadata": {},
   "outputs": [
    {
     "data": {
      "text/plain": [
       "array([0, 1, 2, 3, 4, 5, 6, 7, 8, 9])"
      ]
     },
     "execution_count": 105,
     "metadata": {},
     "output_type": "execute_result"
    }
   ],
   "source": [
    "arr10=np.arange(10)\n",
    "arr10"
   ]
  },
  {
   "cell_type": "code",
   "execution_count": 101,
   "id": "a282ccbc-c422-4340-b2e5-1d3b9d5966f4",
   "metadata": {},
   "outputs": [
    {
     "data": {
      "text/plain": [
       "[1, 2, 3]"
      ]
     },
     "execution_count": 101,
     "metadata": {},
     "output_type": "execute_result"
    }
   ],
   "source": [
    "ls=[1,2,3]\n",
    "ls"
   ]
  },
  {
   "cell_type": "code",
   "execution_count": 94,
   "id": "89abcb7c-5f6c-49bb-8e15-96a821e8f1ba",
   "metadata": {},
   "outputs": [
    {
     "data": {
      "text/plain": [
       "[1, 2, 3]"
      ]
     },
     "execution_count": 94,
     "metadata": {},
     "output_type": "execute_result"
    }
   ],
   "source": [
    "ls"
   ]
  },
  {
   "cell_type": "code",
   "execution_count": null,
   "id": "2b8d0bdb-94db-43a9-bd68-cd70c2dc2f18",
   "metadata": {},
   "outputs": [],
   "source": []
  },
  {
   "cell_type": "code",
   "execution_count": null,
   "id": "483b6431-7a97-4ebd-8d73-da842f952b0d",
   "metadata": {},
   "outputs": [],
   "source": []
  },
  {
   "cell_type": "code",
   "execution_count": null,
   "id": "cd11bf67-6742-44f7-9477-9bb1930a9b59",
   "metadata": {},
   "outputs": [],
   "source": []
  }
 ],
 "metadata": {
  "kernelspec": {
   "display_name": "Python 3 (ipykernel)",
   "language": "python",
   "name": "python3"
  },
  "language_info": {
   "codemirror_mode": {
    "name": "ipython",
    "version": 3
   },
   "file_extension": ".py",
   "mimetype": "text/x-python",
   "name": "python",
   "nbconvert_exporter": "python",
   "pygments_lexer": "ipython3",
   "version": "3.12.4"
  }
 },
 "nbformat": 4,
 "nbformat_minor": 5
}
