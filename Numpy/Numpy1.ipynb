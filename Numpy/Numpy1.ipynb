{
 "cells": [
  {
   "cell_type": "code",
   "execution_count": 1,
   "id": "fffd822e-dda0-40c0-8f97-3c6bc94c71af",
   "metadata": {},
   "outputs": [
    {
     "name": "stdout",
     "output_type": "stream",
     "text": [
      "Numpy Campus X\n"
     ]
    }
   ],
   "source": [
    "#Numpy has one data structure that is n-dimesnionl array\n",
    "print(\"Numpy Campus X\")"
   ]
  },
  {
   "cell_type": "code",
   "execution_count": 3,
   "id": "7e1e8f3a-4dc4-4ceb-9eb6-4e2a271774f3",
   "metadata": {},
   "outputs": [],
   "source": [
    "#this is the sytax to include numpy in ur project"
   ]
  },
  {
   "cell_type": "code",
   "execution_count": 5,
   "id": "5e96f575-5181-4ed0-b842-ebb78657e9d2",
   "metadata": {},
   "outputs": [],
   "source": [
    "import numpy as np"
   ]
  },
  {
   "cell_type": "code",
   "execution_count": 9,
   "id": "e4f368d6-4826-4bbd-bc90-7931fb765395",
   "metadata": {},
   "outputs": [],
   "source": [
    "x=np.array({})"
   ]
  },
  {
   "cell_type": "code",
   "execution_count": 11,
   "id": "5ac1bfbf-cf5e-48f5-b91b-d4abcac1a11d",
   "metadata": {},
   "outputs": [],
   "source": [
    "arr1=np.array([1,2,3,4])"
   ]
  },
  {
   "cell_type": "code",
   "execution_count": 13,
   "id": "2376a424-9e16-482f-b9b9-9c8b1cd9f8ac",
   "metadata": {},
   "outputs": [
    {
     "data": {
      "text/plain": [
       "array([1, 2, 3, 4])"
      ]
     },
     "execution_count": 13,
     "metadata": {},
     "output_type": "execute_result"
    }
   ],
   "source": [
    "arr1"
   ]
  },
  {
   "cell_type": "code",
   "execution_count": 15,
   "id": "549114ca-bd1a-474a-9186-a7b0805473ab",
   "metadata": {},
   "outputs": [
    {
     "data": {
      "text/plain": [
       "numpy.ndarray"
      ]
     },
     "execution_count": 15,
     "metadata": {},
     "output_type": "execute_result"
    }
   ],
   "source": [
    "type(arr1)"
   ]
  },
  {
   "cell_type": "code",
   "execution_count": 21,
   "id": "04731308-8a8a-43cc-9baa-11f74af5a1e5",
   "metadata": {},
   "outputs": [
    {
     "ename": "TypeError",
     "evalue": "unhashable type: 'list'",
     "output_type": "error",
     "traceback": [
      "\u001b[1;31m---------------------------------------------------------------------------\u001b[0m",
      "\u001b[1;31mTypeError\u001b[0m                                 Traceback (most recent call last)",
      "Cell \u001b[1;32mIn[21], line 1\u001b[0m\n\u001b[1;32m----> 1\u001b[0m arr1\u001b[38;5;241m=\u001b[39mnp\u001b[38;5;241m.\u001b[39marray({[\u001b[38;5;241m1\u001b[39m,\u001b[38;5;241m2\u001b[39m,\u001b[38;5;241m3\u001b[39m],[\u001b[38;5;241m2\u001b[39m,\u001b[38;5;241m5\u001b[39m,\u001b[38;5;241m6\u001b[39m]})\n",
      "\u001b[1;31mTypeError\u001b[0m: unhashable type: 'list'"
     ]
    }
   ],
   "source": [
    "arr1=np.array({[1,2,3],[2,5,6]})"
   ]
  },
  {
   "cell_type": "code",
   "execution_count": null,
   "id": "80b7f9bb-df84-4a37-be16-cb16d63a5da5",
   "metadata": {},
   "outputs": [],
   "source": []
  }
 ],
 "metadata": {
  "kernelspec": {
   "display_name": "Python 3 (ipykernel)",
   "language": "python",
   "name": "python3"
  },
  "language_info": {
   "codemirror_mode": {
    "name": "ipython",
    "version": 3
   },
   "file_extension": ".py",
   "mimetype": "text/x-python",
   "name": "python",
   "nbconvert_exporter": "python",
   "pygments_lexer": "ipython3",
   "version": "3.12.4"
  }
 },
 "nbformat": 4,
 "nbformat_minor": 5
}
