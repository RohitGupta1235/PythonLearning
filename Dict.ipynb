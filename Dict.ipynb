{
 "cells": [
  {
   "cell_type": "code",
   "execution_count": 1,
   "id": "d1fc1c4d-c8ed-4992-97c4-d7dbc8161b15",
   "metadata": {},
   "outputs": [],
   "source": [
    "#Dictionary is the unorderd collections of key values pairs enclosed in the currly braces"
   ]
  },
  {
   "cell_type": "code",
   "execution_count": 3,
   "id": "d6c6cd69-b92d-4168-ae16-4e38c7e3e1fb",
   "metadata": {},
   "outputs": [],
   "source": [
    "fruits={\"apple\":10,\"mango\":60,\"orange\":30}"
   ]
  },
  {
   "cell_type": "code",
   "execution_count": 7,
   "id": "967c887a-1af2-4121-b5a5-a76703a31805",
   "metadata": {},
   "outputs": [
    {
     "data": {
      "text/plain": [
       "{'apple': 10, 'mango': 60, 'orange': 30}"
      ]
     },
     "execution_count": 7,
     "metadata": {},
     "output_type": "execute_result"
    }
   ],
   "source": [
    "fruits"
   ]
  },
  {
   "cell_type": "code",
   "execution_count": 9,
   "id": "1b1b121e-81f2-4ae5-a706-6645708b5132",
   "metadata": {},
   "outputs": [
    {
     "data": {
      "text/plain": [
       "dict"
      ]
     },
     "execution_count": 9,
     "metadata": {},
     "output_type": "execute_result"
    }
   ],
   "source": [
    "type(fruits)"
   ]
  },
  {
   "cell_type": "code",
   "execution_count": 11,
   "id": "65f2ffa0-cf49-447f-b3d6-7b185ca75c5c",
   "metadata": {},
   "outputs": [],
   "source": [
    "#exracting key "
   ]
  },
  {
   "cell_type": "code",
   "execution_count": 13,
   "id": "a1cd4b6b-57d9-400b-8158-d61e887358ae",
   "metadata": {},
   "outputs": [
    {
     "data": {
      "text/plain": [
       "dict_keys(['apple', 'mango', 'orange'])"
      ]
     },
     "execution_count": 13,
     "metadata": {},
     "output_type": "execute_result"
    }
   ],
   "source": [
    "fruits.keys()"
   ]
  },
  {
   "cell_type": "code",
   "execution_count": 15,
   "id": "ad064d38-be76-4a0a-98c5-67b9fc362697",
   "metadata": {},
   "outputs": [],
   "source": [
    "#extracting values"
   ]
  },
  {
   "cell_type": "code",
   "execution_count": 17,
   "id": "45b657ee-9ea5-45ad-8683-ec7d251456f9",
   "metadata": {},
   "outputs": [
    {
     "data": {
      "text/plain": [
       "dict_values([10, 60, 30])"
      ]
     },
     "execution_count": 17,
     "metadata": {},
     "output_type": "execute_result"
    }
   ],
   "source": [
    "fruits.values()"
   ]
  },
  {
   "cell_type": "code",
   "execution_count": 19,
   "id": "f0f75bc5-a50e-4538-be62-7eece778a4ca",
   "metadata": {},
   "outputs": [],
   "source": [
    "#adding the new element"
   ]
  },
  {
   "cell_type": "code",
   "execution_count": 23,
   "id": "7a1827ac-e5e8-4201-adbd-33724b90357c",
   "metadata": {},
   "outputs": [],
   "source": [
    "fruits[\"banana\"]=100"
   ]
  },
  {
   "cell_type": "code",
   "execution_count": 25,
   "id": "bc82a9f3-6313-4a66-b676-0e6b9719b403",
   "metadata": {},
   "outputs": [
    {
     "data": {
      "text/plain": [
       "{'apple': 10, 'mango': 60, 'orange': 30, 'banana': 100}"
      ]
     },
     "execution_count": 25,
     "metadata": {},
     "output_type": "execute_result"
    }
   ],
   "source": [
    "fruits"
   ]
  },
  {
   "cell_type": "code",
   "execution_count": 27,
   "id": "cd1df5d2-a360-4a68-8f40-63a196c15067",
   "metadata": {},
   "outputs": [],
   "source": [
    "#changing the excitng element"
   ]
  },
  {
   "cell_type": "code",
   "execution_count": 33,
   "id": "05f601a2-4c68-4f52-8b8f-9b9298b5c736",
   "metadata": {},
   "outputs": [],
   "source": [
    "fruits[\"apple\"]=50"
   ]
  },
  {
   "cell_type": "code",
   "execution_count": 35,
   "id": "ce5eaee8-4bc3-4ac6-a91f-928f085d668b",
   "metadata": {},
   "outputs": [
    {
     "data": {
      "text/plain": [
       "{'apple': 50, 'mango': 60, 'orange': 30, 'banana': 100}"
      ]
     },
     "execution_count": 35,
     "metadata": {},
     "output_type": "execute_result"
    }
   ],
   "source": [
    "fruits"
   ]
  },
  {
   "cell_type": "code",
   "execution_count": null,
   "id": "0098a818-b2b7-4365-bdc3-bace8dddd621",
   "metadata": {},
   "outputs": [],
   "source": []
  }
 ],
 "metadata": {
  "kernelspec": {
   "display_name": "Python 3 (ipykernel)",
   "language": "python",
   "name": "python3"
  },
  "language_info": {
   "codemirror_mode": {
    "name": "ipython",
    "version": 3
   },
   "file_extension": ".py",
   "mimetype": "text/x-python",
   "name": "python",
   "nbconvert_exporter": "python",
   "pygments_lexer": "ipython3",
   "version": "3.12.4"
  }
 },
 "nbformat": 4,
 "nbformat_minor": 5
}
