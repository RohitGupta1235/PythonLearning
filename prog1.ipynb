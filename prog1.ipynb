{
 "cells": [
  {
   "cell_type": "code",
   "execution_count": 1,
   "id": "b1620dcf-1b03-4d63-a5d1-86d20fcee5e2",
   "metadata": {},
   "outputs": [
    {
     "name": "stdout",
     "output_type": "stream",
     "text": [
      "welcome rohit\n"
     ]
    }
   ],
   "source": [
    "print(\"welcome rohit\")"
   ]
  },
  {
   "cell_type": "code",
   "execution_count": 3,
   "id": "c8bfd1d0-c502-4219-9149-03510166ea65",
   "metadata": {},
   "outputs": [
    {
     "ename": "SyntaxError",
     "evalue": "unterminated string literal (detected at line 1) (326361379.py, line 1)",
     "output_type": "error",
     "traceback": [
      "\u001b[1;36m  Cell \u001b[1;32mIn[3], line 1\u001b[1;36m\u001b[0m\n\u001b[1;33m    x=[1,2,\"rohit:]\u001b[0m\n\u001b[1;37m           ^\u001b[0m\n\u001b[1;31mSyntaxError\u001b[0m\u001b[1;31m:\u001b[0m unterminated string literal (detected at line 1)\n"
     ]
    }
   ],
   "source": [
    "x=[1,2,\"rohit:]"
   ]
  },
  {
   "cell_type": "code",
   "execution_count": 5,
   "id": "f4c60313-2a60-443f-bc28-b106310e50ad",
   "metadata": {},
   "outputs": [],
   "source": [
    "#list is the collection that is ordered and changeable and can allow duplicates elements "
   ]
  },
  {
   "cell_type": "code",
   "execution_count": 7,
   "id": "991720f4-9d67-428f-b167-2666355fbd38",
   "metadata": {},
   "outputs": [],
   "source": [
    "x=[1,2,\"rohit\",34]"
   ]
  },
  {
   "cell_type": "code",
   "execution_count": 9,
   "id": "374cdbb1-026f-4bc8-8829-9afaf7a110c4",
   "metadata": {},
   "outputs": [
    {
     "data": {
      "text/plain": [
       "[1, 2, 'rohit', 34]"
      ]
     },
     "execution_count": 9,
     "metadata": {},
     "output_type": "execute_result"
    }
   ],
   "source": [
    "x"
   ]
  },
  {
   "cell_type": "code",
   "execution_count": 11,
   "id": "dd6476bf-10cf-41c7-93e3-b6c6e5529ea0",
   "metadata": {},
   "outputs": [
    {
     "data": {
      "text/plain": [
       "list"
      ]
     },
     "execution_count": 11,
     "metadata": {},
     "output_type": "execute_result"
    }
   ],
   "source": [
    "type(x)"
   ]
  },
  {
   "cell_type": "code",
   "execution_count": null,
   "id": "f7fd454b-76ed-4f39-b389-ef05fc701641",
   "metadata": {},
   "outputs": [],
   "source": []
  }
 ],
 "metadata": {
  "kernelspec": {
   "display_name": "Python 3 (ipykernel)",
   "language": "python",
   "name": "python3"
  },
  "language_info": {
   "codemirror_mode": {
    "name": "ipython",
    "version": 3
   },
   "file_extension": ".py",
   "mimetype": "text/x-python",
   "name": "python",
   "nbconvert_exporter": "python",
   "pygments_lexer": "ipython3",
   "version": "3.12.4"
  }
 },
 "nbformat": 4,
 "nbformat_minor": 5
}
