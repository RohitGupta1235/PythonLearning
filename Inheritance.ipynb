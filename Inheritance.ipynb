{
 "cells": [
  {
   "cell_type": "code",
   "execution_count": 1,
   "id": "237589ad-fbfb-4f08-840f-6eeedacaa371",
   "metadata": {},
   "outputs": [],
   "source": [
    "class Vehicle:\n",
    "    \n",
    "    def __init__(self,mileage, cost):\n",
    "        self.mileage = mileage\n",
    "        self.cost = cost\n",
    "        \n",
    "    def show_details(self):\n",
    "        print(\"I am a Vehicle\")\n",
    "        print(\"Mileage of Vehicle is \", self.mileage)\n",
    "        print(\"Cost of Vehicle is \", self.cost)"
   ]
  },
  {
   "cell_type": "code",
   "execution_count": 7,
   "id": "0a396540-374a-4475-8a59-3457dd8901a3",
   "metadata": {},
   "outputs": [],
   "source": [
    "class Car(Vehicle):\n",
    "    def show(self):\n",
    "        print(\"this is car class\")\n",
    "    "
   ]
  },
  {
   "cell_type": "code",
   "execution_count": 9,
   "id": "5711581b-536c-41c4-8d9e-0f50bb17d722",
   "metadata": {},
   "outputs": [],
   "source": [
    "c1=Car(200,20)"
   ]
  },
  {
   "cell_type": "code",
   "execution_count": 13,
   "id": "536c3f85-c11f-4440-ace7-515401a41e30",
   "metadata": {},
   "outputs": [
    {
     "name": "stdout",
     "output_type": "stream",
     "text": [
      "I am a Vehicle\n",
      "Mileage of Vehicle is  200\n",
      "Cost of Vehicle is  20\n"
     ]
    }
   ],
   "source": [
    "c1.show_details()"
   ]
  },
  {
   "cell_type": "code",
   "execution_count": null,
   "id": "b9a311fc-7bba-4844-a507-3cc0edf906e9",
   "metadata": {},
   "outputs": [],
   "source": []
  }
 ],
 "metadata": {
  "kernelspec": {
   "display_name": "Python 3 (ipykernel)",
   "language": "python",
   "name": "python3"
  },
  "language_info": {
   "codemirror_mode": {
    "name": "ipython",
    "version": 3
   },
   "file_extension": ".py",
   "mimetype": "text/x-python",
   "name": "python",
   "nbconvert_exporter": "python",
   "pygments_lexer": "ipython3",
   "version": "3.12.4"
  }
 },
 "nbformat": 4,
 "nbformat_minor": 5
}
