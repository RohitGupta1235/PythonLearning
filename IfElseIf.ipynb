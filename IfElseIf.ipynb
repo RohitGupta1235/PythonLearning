{
 "cells": [
  {
   "cell_type": "code",
   "execution_count": 1,
   "id": "a1f09c27-5e21-42c4-bf11-dfe560c4e699",
   "metadata": {},
   "outputs": [],
   "source": [
    "a=10"
   ]
  },
  {
   "cell_type": "code",
   "execution_count": 3,
   "id": "1d707c60-a608-4836-ae84-3328dd3a77a6",
   "metadata": {},
   "outputs": [
    {
     "name": "stdout",
     "output_type": "stream",
     "text": [
      "ok\n"
     ]
    }
   ],
   "source": [
    "b=3\n",
    "if a>b:\n",
    "    print(\"ok\")\n",
    "else:\n",
    "    print(\"not ok\")"
   ]
  },
  {
   "cell_type": "code",
   "execution_count": 7,
   "id": "598f8fab-4b61-4bcb-b109-16d066d3b1fb",
   "metadata": {},
   "outputs": [
    {
     "name": "stdout",
     "output_type": "stream",
     "text": [
      "it presents\n"
     ]
    }
   ],
   "source": [
    "x=('a','b','c')\n",
    "if 'a' in x:\n",
    "    print(\"it presents\")\n",
    "else:\n",
    "    print(\"it is not presents\")"
   ]
  },
  {
   "cell_type": "code",
   "execution_count": 9,
   "id": "ff77fb29-5770-4a77-93ae-cb9359fe7a9f",
   "metadata": {},
   "outputs": [
    {
     "name": "stdout",
     "output_type": "stream",
     "text": [
      "it is not presents\n"
     ]
    }
   ],
   "source": [
    "x=('a','b','c')\n",
    "if 'aa' in x:\n",
    "    print(\"it presents\")\n",
    "else:\n",
    "    print(\"it is not presents\")"
   ]
  },
  {
   "cell_type": "code",
   "execution_count": null,
   "id": "749c1882-4252-432c-b3a9-60f01283c5be",
   "metadata": {},
   "outputs": [],
   "source": []
  }
 ],
 "metadata": {
  "kernelspec": {
   "display_name": "Python 3 (ipykernel)",
   "language": "python",
   "name": "python3"
  },
  "language_info": {
   "codemirror_mode": {
    "name": "ipython",
    "version": 3
   },
   "file_extension": ".py",
   "mimetype": "text/x-python",
   "name": "python",
   "nbconvert_exporter": "python",
   "pygments_lexer": "ipython3",
   "version": "3.12.4"
  }
 },
 "nbformat": 4,
 "nbformat_minor": 5
}
