{
 "cells": [
  {
   "cell_type": "code",
   "execution_count": 1,
   "id": "7d72bdc3-9d3e-4418-a107-baf709466137",
   "metadata": {},
   "outputs": [],
   "source": [
    "#Strign Function in Python \n",
    "x=\"rohti\""
   ]
  },
  {
   "cell_type": "code",
   "execution_count": 3,
   "id": "008f1e61-ef75-4c59-8c4a-e01c8aa9580f",
   "metadata": {},
   "outputs": [
    {
     "data": {
      "text/plain": [
       "5"
      ]
     },
     "execution_count": 3,
     "metadata": {},
     "output_type": "execute_result"
    }
   ],
   "source": [
    "len(x)"
   ]
  },
  {
   "cell_type": "code",
   "execution_count": 5,
   "id": "366220f9-d5a4-416b-8b60-94d87cd30eb2",
   "metadata": {},
   "outputs": [],
   "source": [
    "x='ramesh'"
   ]
  },
  {
   "cell_type": "code",
   "execution_count": 7,
   "id": "76edcf52-15d5-4f1f-b589-b15bdc82f904",
   "metadata": {},
   "outputs": [
    {
     "data": {
      "text/plain": [
       "'ramesh'"
      ]
     },
     "execution_count": 7,
     "metadata": {},
     "output_type": "execute_result"
    }
   ],
   "source": [
    "x"
   ]
  },
  {
   "cell_type": "code",
   "execution_count": 9,
   "id": "d44c5f4e-922d-45f5-bd85-0eef2ed6e889",
   "metadata": {},
   "outputs": [
    {
     "data": {
      "text/plain": [
       "str"
      ]
     },
     "execution_count": 9,
     "metadata": {},
     "output_type": "execute_result"
    }
   ],
   "source": [
    "type(x)"
   ]
  },
  {
   "cell_type": "code",
   "execution_count": 11,
   "id": "57b7b96a-ae4f-43c6-9334-19de6b41d312",
   "metadata": {},
   "outputs": [],
   "source": [
    "strVar=x[0]"
   ]
  },
  {
   "cell_type": "code",
   "execution_count": 13,
   "id": "d7f84284-2e6e-40bc-855a-4e28d7160c68",
   "metadata": {},
   "outputs": [
    {
     "data": {
      "text/plain": [
       "'r'"
      ]
     },
     "execution_count": 13,
     "metadata": {},
     "output_type": "execute_result"
    }
   ],
   "source": [
    "strVar"
   ]
  },
  {
   "cell_type": "code",
   "execution_count": 15,
   "id": "e214e864-af71-430d-83c8-166c683ec8e1",
   "metadata": {},
   "outputs": [],
   "source": [
    "y=x.replace('t','d')"
   ]
  },
  {
   "cell_type": "code",
   "execution_count": 17,
   "id": "e2e93cfa-4a7c-443d-a1dd-a1c51d150746",
   "metadata": {},
   "outputs": [
    {
     "data": {
      "text/plain": [
       "'ramesh'"
      ]
     },
     "execution_count": 17,
     "metadata": {},
     "output_type": "execute_result"
    }
   ],
   "source": [
    "y"
   ]
  },
  {
   "cell_type": "code",
   "execution_count": 19,
   "id": "cf37e07f-84c8-411f-bfb4-a930bbdd54ed",
   "metadata": {},
   "outputs": [],
   "source": [
    "y=x.replace('h','k')"
   ]
  },
  {
   "cell_type": "code",
   "execution_count": 21,
   "id": "3d28bb49-72d3-468c-a97a-a4d220ccd49b",
   "metadata": {},
   "outputs": [
    {
     "data": {
      "text/plain": [
       "'ramesk'"
      ]
     },
     "execution_count": 21,
     "metadata": {},
     "output_type": "execute_result"
    }
   ],
   "source": [
    "y"
   ]
  },
  {
   "cell_type": "code",
   "execution_count": 23,
   "id": "a821d2a4-77c2-4157-9014-2810bdbe85b6",
   "metadata": {},
   "outputs": [],
   "source": [
    "x=\"this is sparta\""
   ]
  },
  {
   "cell_type": "code",
   "execution_count": 25,
   "id": "5680d464-17a5-4fac-bc77-4f7d9515df0f",
   "metadata": {},
   "outputs": [
    {
     "data": {
      "text/plain": [
       "'this is sparta'"
      ]
     },
     "execution_count": 25,
     "metadata": {},
     "output_type": "execute_result"
    }
   ],
   "source": [
    "x"
   ]
  },
  {
   "cell_type": "code",
   "execution_count": 27,
   "id": "57ef5aee-ac4b-47c9-a691-ace029507b7a",
   "metadata": {},
   "outputs": [
    {
     "data": {
      "text/plain": [
       "14"
      ]
     },
     "execution_count": 27,
     "metadata": {},
     "output_type": "execute_result"
    }
   ],
   "source": [
    "len(x)"
   ]
  },
  {
   "cell_type": "code",
   "execution_count": 29,
   "id": "7c292879-7133-43c1-bf3b-0542d9e3c408",
   "metadata": {},
   "outputs": [],
   "source": [
    "x=\"hello hello count\""
   ]
  },
  {
   "cell_type": "code",
   "execution_count": 33,
   "id": "f973bca8-691f-43e0-9114-3512b9b5e110",
   "metadata": {},
   "outputs": [
    {
     "name": "stdout",
     "output_type": "stream",
     "text": [
      "2\n"
     ]
    }
   ],
   "source": [
    "print(x.count(\"hello\"))"
   ]
  },
  {
   "cell_type": "code",
   "execution_count": 35,
   "id": "7ee07016-cb3d-4006-ae64-d6e5ad863f18",
   "metadata": {},
   "outputs": [],
   "source": [
    "#count is bacially used for counting numeber of occurnec of the substring "
   ]
  },
  {
   "cell_type": "code",
   "execution_count": 37,
   "id": "86c8a455-0297-47bc-90dd-8990bf737425",
   "metadata": {},
   "outputs": [
    {
     "data": {
      "text/plain": [
       "2"
      ]
     },
     "execution_count": 37,
     "metadata": {},
     "output_type": "execute_result"
    }
   ],
   "source": [
    "x.count(\"hello\")"
   ]
  },
  {
   "cell_type": "code",
   "execution_count": 39,
   "id": "51828262-ef2e-4b5e-b28e-f1a81bc44c98",
   "metadata": {},
   "outputs": [],
   "source": [
    "#finding the index of the substring "
   ]
  },
  {
   "cell_type": "code",
   "execution_count": 41,
   "id": "0a91a18d-c8b1-45fc-95f3-d7b21494e62e",
   "metadata": {},
   "outputs": [
    {
     "data": {
      "text/plain": [
       "-1"
      ]
     },
     "execution_count": 41,
     "metadata": {},
     "output_type": "execute_result"
    }
   ],
   "source": [
    "#so we will use find\n",
    "x.find('sparta')"
   ]
  },
  {
   "cell_type": "code",
   "execution_count": 43,
   "id": "256ef3f4-cbfb-4591-984a-308e69f34c33",
   "metadata": {},
   "outputs": [],
   "source": [
    "#here in python -1 indicts last index of the substring "
   ]
  },
  {
   "cell_type": "code",
   "execution_count": 45,
   "id": "4063f4b0-daed-420f-91bb-27c3b9f34040",
   "metadata": {},
   "outputs": [],
   "source": [
    "#for spliting the string we will use split "
   ]
  },
  {
   "cell_type": "code",
   "execution_count": 47,
   "id": "7e3d4111-bd14-4f30-9396-3b7bb52ff23c",
   "metadata": {},
   "outputs": [
    {
     "data": {
      "text/plain": [
       "['hello hello count']"
      ]
     },
     "execution_count": 47,
     "metadata": {},
     "output_type": "execute_result"
    }
   ],
   "source": [
    "x.split(',')"
   ]
  },
  {
   "cell_type": "code",
   "execution_count": null,
   "id": "50b1f0b8-89b9-4ebb-bbd5-86d7cceaaafb",
   "metadata": {},
   "outputs": [],
   "source": []
  }
 ],
 "metadata": {
  "kernelspec": {
   "display_name": "Python 3 (ipykernel)",
   "language": "python",
   "name": "python3"
  },
  "language_info": {
   "codemirror_mode": {
    "name": "ipython",
    "version": 3
   },
   "file_extension": ".py",
   "mimetype": "text/x-python",
   "name": "python",
   "nbconvert_exporter": "python",
   "pygments_lexer": "ipython3",
   "version": "3.12.4"
  }
 },
 "nbformat": 4,
 "nbformat_minor": 5
}
